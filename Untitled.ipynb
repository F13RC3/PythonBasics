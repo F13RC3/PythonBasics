{
 "cells": [
  {
   "cell_type": "code",
   "execution_count": 1,
   "metadata": {
    "ExecuteTime": {
     "end_time": "2019-01-09T06:01:09.658666Z",
     "start_time": "2019-01-09T06:01:04.235047Z"
    }
   },
   "outputs": [
    {
     "name": "stdout",
     "output_type": "stream",
     "text": [
      "None : https://en.wikipedia.org/w/load.php?debug=false&lang=en&modules=ext.3d.styles%7Cext.cite.styles%7Cext.uls.interlanguage%7Cext.visualEditor.desktopArticleTarget.noscript%7Cext.wikimediaBadges%7Cmediawiki.legacy.commonPrint%2Cshared%7Cmediawiki.skinning.interface%7Cskins.vector.styles%7Cwikibase.client.init&only=styles&skin=vector\n",
      "None : https://en.wikipedia.org/w/load.php?debug=false&lang=en&modules=ext.gadget.charinsert-styles&only=styles&skin=vector\n",
      "None : https://en.wikipedia.org/w/load.php?debug=false&lang=en&modules=site.styles&only=styles&skin=vector\n",
      "None : https://en.wikipedia.organdroid-app://org.wikipedia/http/en.m.wikipedia.org/wiki/List_of_Baby_Steps_episodes\n",
      "None : https://en.wikipedia.org/w/index.php?title=List_of_Baby_Steps_episodes&action=edit\n",
      "None : https://en.wikipedia.org/w/index.php?title=List_of_Baby_Steps_episodes&action=edit\n",
      "None : https://en.wikipedia.org/static/apple-touch/wikipedia.png\n",
      "None : https://en.wikipedia.org/static/favicon/wikipedia.ico\n",
      "None : https://en.wikipedia.org/w/opensearch_desc.php\n",
      "None : https://en.wikipedia.org//en.wikipedia.org/w/api.php?action=rsd\n",
      "None : https://en.wikipedia.org//creativecommons.org/licenses/by-sa/3.0/\n",
      "None : https://en.wikipedia.orghttps://en.wikipedia.org/wiki/List_of_Baby_Steps_episodes\n",
      "None : https://en.wikipedia.org//login.wikimedia.org\n",
      "None : https://en.wikipedia.org//meta.wikimedia.org\n",
      "None : https://en.wikipedia.orgmw-data:TemplateStyles:r861714446\n",
      "None : https://en.wikipedia.orgmw-data:TemplateStyles:r861714446\n",
      "None : https://en.wikipedia.orgmw-data:TemplateStyles:r861714446\n",
      "\n"
     ]
    }
   ],
   "source": [
    "import requests\n",
    "from bs4 import BeautifulSoup\n",
    "\n",
    "def trade_spider(max_pages):\n",
    "    page=1\n",
    "    fw = open('crawler.txt', 'w')\n",
    "    while page<=max_pages:\n",
    "        url='https://en.wikipedia.org/wiki/List_of_Baby_Steps_episodes'\n",
    "        source_code=requests.get(url)\n",
    "        plain_text=source_code.text\n",
    "        soup=BeautifulSoup(plain_text,\"html.parser\")\n",
    "\n",
    "        for link in soup.findAll('link'):\n",
    "            title=link.string\n",
    "            a = str(title)\n",
    "            href='https://en.wikipedia.org' +link.get('href')\n",
    "\n",
    "\n",
    "            fw.write(a+' : '+href+\"\\n\")\n",
    "\n",
    "            #print(title)\n",
    "            #print(href)\n",
    "\n",
    "        page+=1\n",
    "    fw.close()\n",
    "    fr=open('crawler.txt','r')\n",
    "    text=fr.read()\n",
    "    print(text)\n",
    "    fr.close()\n",
    "\n",
    "\n",
    "trade_spider(1)"
   ]
  }
 ],
 "metadata": {
  "kernelspec": {
   "display_name": "Python 3",
   "language": "python",
   "name": "python3"
  },
  "language_info": {
   "codemirror_mode": {
    "name": "ipython",
    "version": 3
   },
   "file_extension": ".py",
   "mimetype": "text/x-python",
   "name": "python",
   "nbconvert_exporter": "python",
   "pygments_lexer": "ipython3",
   "version": "3.7.1"
  }
 },
 "nbformat": 4,
 "nbformat_minor": 2
}
